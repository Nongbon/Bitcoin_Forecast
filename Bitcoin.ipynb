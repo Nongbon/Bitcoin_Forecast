{
  "nbformat": 4,
  "nbformat_minor": 0,
  "metadata": {
    "colab": {
      "name": "Bitcoin.ipynb",
      "provenance": [],
      "authorship_tag": "ABX9TyPo2x9fpO7lAfihKy75m/cI",
      "include_colab_link": true
    },
    "kernelspec": {
      "name": "python3",
      "display_name": "Python 3"
    }
  },
  "cells": [
    {
      "cell_type": "markdown",
      "metadata": {
        "id": "view-in-github",
        "colab_type": "text"
      },
      "source": [
        "<a href=\"https://colab.research.google.com/github/Nongbon/Bitcoin_Forecast/blob/main/Bitcoin.ipynb\" target=\"_parent\"><img src=\"https://colab.research.google.com/assets/colab-badge.svg\" alt=\"Open In Colab\"/></a>"
      ]
    },
    {
      "cell_type": "code",
      "metadata": {
        "id": "5HC1qPkNdinP"
      },
      "source": [
        "import numpy as np\n",
        "import pandas as pd\n",
        "import matplotlib.pyplot as plt\n",
        "from keras import Sequential\n",
        "from keras.models import load_model\n",
        "from keras.layers import Dense, SimpleRNN\n",
        "from keras import optimizers\n",
        "from keras import layers\n",
        "from keras import models\n",
        "from sklearn.model_selection import train_test_split\n",
        "from sklearn.preprocessing import MinMaxScaler\n",
        "import math\n",
        "import tensorflow as tf\n",
        "from tensorflow import keras\n",
        "plt.style.use('fivethirtyeight')\n",
        "%matplotlib inline"
      ],
      "execution_count": null,
      "outputs": []
    },
    {
      "cell_type": "code",
      "metadata": {
        "colab": {
          "base_uri": "https://localhost:8080/",
          "height": 195
        },
        "id": "bBIjrcuuucg6",
        "outputId": "933a8f8d-51c1-4e80-b5a3-94dcb36d4bbb"
      },
      "source": [
        "data = pd.read_csv('Bitcoin.csv').drop(['Currency'],axis=1)\n",
        "data.head()\n"
      ],
      "execution_count": null,
      "outputs": [
        {
          "output_type": "execute_result",
          "data": {
            "text/html": [
              "<div>\n",
              "<style scoped>\n",
              "    .dataframe tbody tr th:only-of-type {\n",
              "        vertical-align: middle;\n",
              "    }\n",
              "\n",
              "    .dataframe tbody tr th {\n",
              "        vertical-align: top;\n",
              "    }\n",
              "\n",
              "    .dataframe thead th {\n",
              "        text-align: right;\n",
              "    }\n",
              "</style>\n",
              "<table border=\"1\" class=\"dataframe\">\n",
              "  <thead>\n",
              "    <tr style=\"text-align: right;\">\n",
              "      <th></th>\n",
              "      <th>Date</th>\n",
              "      <th>Open</th>\n",
              "      <th>High</th>\n",
              "      <th>Low</th>\n",
              "      <th>Close</th>\n",
              "      <th>Volume</th>\n",
              "      <th>Market Cap</th>\n",
              "    </tr>\n",
              "  </thead>\n",
              "  <tbody>\n",
              "    <tr>\n",
              "      <th>0</th>\n",
              "      <td>4/12/2013</td>\n",
              "      <td>1077.58</td>\n",
              "      <td>1156.12</td>\n",
              "      <td>1070.16</td>\n",
              "      <td>1151.17</td>\n",
              "      <td>0</td>\n",
              "      <td>1.390343e+10</td>\n",
              "    </tr>\n",
              "    <tr>\n",
              "      <th>1</th>\n",
              "      <td>5/12/2013</td>\n",
              "      <td>1152.73</td>\n",
              "      <td>1154.36</td>\n",
              "      <td>897.11</td>\n",
              "      <td>1045.11</td>\n",
              "      <td>0</td>\n",
              "      <td>1.262691e+10</td>\n",
              "    </tr>\n",
              "    <tr>\n",
              "      <th>2</th>\n",
              "      <td>6/12/2013</td>\n",
              "      <td>1042.38</td>\n",
              "      <td>1042.38</td>\n",
              "      <td>829.45</td>\n",
              "      <td>829.45</td>\n",
              "      <td>0</td>\n",
              "      <td>1.002565e+10</td>\n",
              "    </tr>\n",
              "    <tr>\n",
              "      <th>3</th>\n",
              "      <td>7/12/2013</td>\n",
              "      <td>835.32</td>\n",
              "      <td>854.64</td>\n",
              "      <td>640.22</td>\n",
              "      <td>698.23</td>\n",
              "      <td>0</td>\n",
              "      <td>8.442962e+09</td>\n",
              "    </tr>\n",
              "    <tr>\n",
              "      <th>4</th>\n",
              "      <td>8/12/2013</td>\n",
              "      <td>697.31</td>\n",
              "      <td>802.51</td>\n",
              "      <td>670.88</td>\n",
              "      <td>795.87</td>\n",
              "      <td>0</td>\n",
              "      <td>9.627500e+09</td>\n",
              "    </tr>\n",
              "  </tbody>\n",
              "</table>\n",
              "</div>"
            ],
            "text/plain": [
              "        Date     Open     High      Low    Close  Volume    Market Cap\n",
              "0  4/12/2013  1077.58  1156.12  1070.16  1151.17       0  1.390343e+10\n",
              "1  5/12/2013  1152.73  1154.36   897.11  1045.11       0  1.262691e+10\n",
              "2  6/12/2013  1042.38  1042.38   829.45   829.45       0  1.002565e+10\n",
              "3  7/12/2013   835.32   854.64   640.22   698.23       0  8.442962e+09\n",
              "4  8/12/2013   697.31   802.51   670.88   795.87       0  9.627500e+09"
            ]
          },
          "metadata": {
            "tags": []
          },
          "execution_count": 3
        }
      ]
    },
    {
      "cell_type": "code",
      "metadata": {
        "colab": {
          "base_uri": "https://localhost:8080/"
        },
        "id": "B6W9ZspBut4C",
        "outputId": "68f68f10-48ed-496e-ce56-2dd8c133d31c"
      },
      "source": [
        "data.info()"
      ],
      "execution_count": null,
      "outputs": [
        {
          "output_type": "stream",
          "text": [
            "<class 'pandas.core.frame.DataFrame'>\n",
            "RangeIndex: 2192 entries, 0 to 2191\n",
            "Data columns (total 7 columns):\n",
            " #   Column      Non-Null Count  Dtype  \n",
            "---  ------      --------------  -----  \n",
            " 0   Date        2192 non-null   object \n",
            " 1   Open        2192 non-null   float64\n",
            " 2   High        2192 non-null   float64\n",
            " 3   Low         2192 non-null   float64\n",
            " 4   Close       2192 non-null   float64\n",
            " 5   Volume      2192 non-null   int64  \n",
            " 6   Market Cap  2192 non-null   float64\n",
            "dtypes: float64(5), int64(1), object(1)\n",
            "memory usage: 120.0+ KB\n"
          ],
          "name": "stdout"
        }
      ]
    },
    {
      "cell_type": "code",
      "metadata": {
        "colab": {
          "base_uri": "https://localhost:8080/",
          "height": 616
        },
        "id": "XqxaAjG5vldt",
        "outputId": "8d9dae36-7220-4371-f178-c4e1972c5f11"
      },
      "source": [
        "plt.figure(figsize=(20,10))\n",
        "plt.plot(data['Market Cap'])\n",
        "plt.xlabel('Date')\n",
        "plt.ylabel('Market Cap')\n",
        "plt.show()"
      ],
      "execution_count": null,
      "outputs": [
        {
          "output_type": "display_data",
          "data": {
            "image/png": "[encoded data removed]",
            "text/plain": [
              "<Figure size 1440x720 with 1 Axes>"
            ]
          },
          "metadata": {
            "tags": [],
            "needs_background": "light"
          }
        }
      ]
    },
    {
      "cell_type": "code",
      "metadata": {
        "colab": {
          "base_uri": "https://localhost:8080/"
        },
        "id": "YXwIHQpQxskV",
        "outputId": "a7e85f76-c3ef-4e0d-fa92-9cc86b2c61a7"
      },
      "source": [
        "data.corr()['Market Cap']"
      ],
      "execution_count": null,
      "outputs": [
        {
          "output_type": "execute_result",
          "data": {
            "text/plain": [
              "Open          0.997007\n",
              "High          0.997908\n",
              "Low           0.998671\n",
              "Close         0.999222\n",
              "Volume        0.802045\n",
              "Market Cap    1.000000\n",
              "Name: Market Cap, dtype: float64"
            ]
          },
          "metadata": {
            "tags": []
          },
          "execution_count": 6
        }
      ]
    },
    {
      "cell_type": "code",
      "metadata": {
        "colab": {
          "base_uri": "https://localhost:8080/"
        },
        "id": "62Pg5RKdx6HK",
        "outputId": "6b556df3-bad2-4ef3-e072-8ea3ba96a981"
      },
      "source": [
        "input_feature= data.drop(['Date'],axis=1).values\n",
        "input_data = input_feature\n",
        "input_data"
      ],
      "execution_count": null,
      "outputs": [
        {
          "output_type": "execute_result",
          "data": {
            "text/plain": [
              "array([[1.07758000e+03, 1.15612000e+03, 1.07016000e+03, 1.15117000e+03,\n",
              "        0.00000000e+00, 1.39034284e+10],\n",
              "       [1.15273000e+03, 1.15436000e+03, 8.97110000e+02, 1.04511000e+03,\n",
              "        0.00000000e+00, 1.26269145e+10],\n",
              "       [1.04238000e+03, 1.04238000e+03, 8.29450000e+02, 8.29450000e+02,\n",
              "        0.00000000e+00, 1.00256451e+10],\n",
              "       ...,\n",
              "       [7.42404000e+03, 7.47482000e+03, 7.23340000e+03, 7.32199000e+03,\n",
              "        1.70820407e+10, 1.32000000e+11],\n",
              "       [7.32398000e+03, 7.41886000e+03, 7.22936000e+03, 7.32015000e+03,\n",
              "        1.47974858e+10, 1.32000000e+11],\n",
              "       [7.32013000e+03, 7.53978000e+03, 7.17092000e+03, 7.25203000e+03,\n",
              "        2.16642409e+10, 1.31000000e+11]])"
            ]
          },
          "metadata": {
            "tags": []
          },
          "execution_count": 7
        }
      ]
    },
    {
      "cell_type": "code",
      "metadata": {
        "colab": {
          "base_uri": "https://localhost:8080/"
        },
        "id": "ee7e84nByqKL",
        "outputId": "5afc0d11-fa21-4528-8d42-f70f58b5456a"
      },
      "source": [
        "#MinMaxScaler เป็นการ Scale ให้ข้อมูลมีค่าระหว่างอยู่ในช่วง 0-1\n",
        "scaler = MinMaxScaler(feature_range=(0,1))\n",
        "input_data = scaler.fit_transform(input_data)\n",
        "input_data"
      ],
      "execution_count": null,
      "outputs": [
        {
          "output_type": "execute_result",
          "data": {
            "text/plain": [
              "array([[0.04667002, 0.04751105, 0.04779395, 0.05036777, 0.        ,\n",
              "        0.03530689],\n",
              "       [0.05056402, 0.04742251, 0.03859043, 0.04487792, 0.        ,\n",
              "        0.03137378],\n",
              "       [0.04484608, 0.04178894, 0.03499199, 0.03371499, 0.        ,\n",
              "        0.02335891],\n",
              "       ...,\n",
              "       [0.37552088, 0.36539676, 0.3755807 , 0.36977996, 0.37871108,\n",
              "        0.39917848],\n",
              "       [0.37033613, 0.36258148, 0.37536584, 0.36968472, 0.32806219,\n",
              "        0.39917848],\n",
              "       [0.37013664, 0.36866481, 0.37225776, 0.36615871, 0.48029905,\n",
              "        0.39609735]])"
            ]
          },
          "metadata": {
            "tags": []
          },
          "execution_count": 8
        }
      ]
    },
    {
      "cell_type": "code",
      "metadata": {
        "id": "CM1RiiFaz1Z6"
      },
      "source": [
        "lookback= 100\n",
        "X=[] \n",
        "Y=[]\n",
        "for i in range(len(data)-lookback-1):\n",
        "    t=[]\n",
        "    for j in range(0,lookback):\n",
        "        \n",
        "        t.append(input_data[[(i+j)], :])\n",
        "    X.append(t)\n",
        "    Y.append(input_data[i+ lookback,2])"
      ],
      "execution_count": null,
      "outputs": []
    },
    {
      "cell_type": "code",
      "metadata": {
        "colab": {
          "base_uri": "https://localhost:8080/"
        },
        "id": "A0vS0nxo0RYx",
        "outputId": "9105a3ab-b589-4eb2-995c-f03a8a60993c"
      },
      "source": [
        "X, Y= np.array(X), np.array(Y)\n",
        "print(X.shape)\n",
        "print(Y.shape)"
      ],
      "execution_count": null,
      "outputs": [
        {
          "output_type": "stream",
          "text": [
            "(2091, 100, 1, 6)\n",
            "(2091,)\n"
          ],
          "name": "stdout"
        }
      ]
    },
    {
      "cell_type": "code",
      "metadata": {
        "id": "VOfSd_ET0L49"
      },
      "source": [
        "X_train, X_test, y_train, y_test = train_test_split(X, Y, test_size=0.2, random_state=1)"
      ],
      "execution_count": null,
      "outputs": []
    },
    {
      "cell_type": "code",
      "metadata": {
        "colab": {
          "base_uri": "https://localhost:8080/"
        },
        "id": "LzTFOZPb0vu-",
        "outputId": "ef0f14f0-6878-4812-f8e3-c481c4de5a4f"
      },
      "source": [
        "print(f'#traning = {X_train.shape[0]}')\n",
        "print(f'#test = {X_test.shape[0]}')\n"
      ],
      "execution_count": null,
      "outputs": [
        {
          "output_type": "stream",
          "text": [
            "#traning = 1672\n",
            "#test = 419\n"
          ],
          "name": "stdout"
        }
      ]
    },
    {
      "cell_type": "code",
      "metadata": {
        "colab": {
          "base_uri": "https://localhost:8080/"
        },
        "id": "qfUwl0XSC7-d",
        "outputId": "0e1b4bd4-39df-48c9-a58e-98d26b2be011"
      },
      "source": [
        "print(X_train.shape)\n",
        "print(X_test.shape)"
      ],
      "execution_count": null,
      "outputs": [
        {
          "output_type": "stream",
          "text": [
            "(1672, 100, 1, 6)\n",
            "(419, 100, 1, 6)\n"
          ],
          "name": "stdout"
        }
      ]
    },
    {
      "cell_type": "code",
      "metadata": {
        "colab": {
          "base_uri": "https://localhost:8080/"
        },
        "id": "yk4K9DGESwC-",
        "outputId": "ecbf8553-a69c-4090-c681-9a87e1c1dfbf"
      },
      "source": [
        "X_train = X_train.reshape(X_train.shape[0],lookback, 6)\n",
        "X_test = X_test.reshape(X_test.shape[0],lookback, 6)\n",
        "print(X_train.shape)\n",
        "print(X_test.shape)"
      ],
      "execution_count": null,
      "outputs": [
        {
          "output_type": "stream",
          "text": [
            "(1672, 100, 6)\n",
            "(419, 100, 6)\n"
          ],
          "name": "stdout"
        }
      ]
    },
    {
      "cell_type": "code",
      "metadata": {
        "colab": {
          "base_uri": "https://localhost:8080/"
        },
        "id": "61rHHfRETlgo",
        "outputId": "47ef6b74-c4a7-42b5-ed06-f720c961839a"
      },
      "source": [
        "y_test = y_test.reshape(-1,1)\n",
        "y_train = y_train.reshape(-1,1)\n",
        "print(y_train.shape)\n",
        "print(y_test.shape)\n",
        "#y_train\n",
        "#X_train"
      ],
      "execution_count": null,
      "outputs": [
        {
          "output_type": "stream",
          "text": [
            "(1672, 1)\n",
            "(419, 1)\n"
          ],
          "name": "stdout"
        }
      ]
    },
    {
      "cell_type": "code",
      "metadata": {
        "colab": {
          "base_uri": "https://localhost:8080/"
        },
        "id": "D6Hpne4J2yRx",
        "outputId": "45645ec2-cb4a-41d5-bbdf-237492d2fc2e"
      },
      "source": [
        "rnn_model = Sequential()\n",
        "rnn_model.add(SimpleRNN(100, return_sequences= True, input_shape=(X_train.shape[1],6)))\n",
        "rnn_model.add(SimpleRNN(100))\n",
        "rnn_model.add(Dense(1)) \n",
        "rnn_model.summary()\n",
        "rnn_model.compile(loss='mse',optimizer=keras.optimizers.SGD(learning_rate=0.01),metrics=['mse'])"
      ],
      "execution_count": null,
      "outputs": [
        {
          "output_type": "stream",
          "text": [
            "Model: \"sequential\"\n",
            "_________________________________________________________________\n",
            "Layer (type)                 Output Shape              Param #   \n",
            "=================================================================\n",
            "simple_rnn (SimpleRNN)       (None, 100, 100)          10700     \n",
            "_________________________________________________________________\n",
            "simple_rnn_1 (SimpleRNN)     (None, 100)               20100     \n",
            "_________________________________________________________________\n",
            "dense (Dense)                (None, 1)                 101       \n",
            "=================================================================\n",
            "Total params: 30,901\n",
            "Trainable params: 30,901\n",
            "Non-trainable params: 0\n",
            "_________________________________________________________________\n"
          ],
          "name": "stdout"
        }
      ]
    },
    {
      "cell_type": "code",
      "metadata": {
        "colab": {
          "base_uri": "https://localhost:8080/"
        },
        "id": "u6-9o3T79STj",
        "outputId": "cb47ce34-affe-4600-9e78-d0405b429745"
      },
      "source": [
        "\n",
        "rnn_model.compile(loss='mse',optimizer='SGD',metrics=['mse'])\n",
        "history = rnn_model.fit(X_train,y_train,epochs=50)\n",
        "\n",
        "print(rnn_model.metrics_names)"
      ],
      "execution_count": null,
      "outputs": [
        {
          "output_type": "stream",
          "text": [
            "Epoch 1/150\n",
            "53/53 [==============================] - 4s 51ms/step - loss: 0.0306 - mse: 0.0306\n",
            "Epoch 2/150\n",
            "53/53 [==============================] - 3s 50ms/step - loss: 0.0019 - mse: 0.0019\n",
            "Epoch 3/150\n",
            "53/53 [==============================] - 3s 51ms/step - loss: 0.0013 - mse: 0.0013\n",
            "Epoch 4/150\n",
            "53/53 [==============================] - 3s 49ms/step - loss: 0.0016 - mse: 0.0016\n",
            "Epoch 5/150\n",
            "53/53 [==============================] - 3s 49ms/step - loss: 0.0011 - mse: 0.0011\n",
            "Epoch 6/150\n",
            "53/53 [==============================] - 3s 49ms/step - loss: 0.0011 - mse: 0.0011\n",
            "Epoch 7/150\n",
            "53/53 [==============================] - 3s 50ms/step - loss: 0.0016 - mse: 0.0016\n",
            "Epoch 8/150\n",
            "53/53 [==============================] - 3s 49ms/step - loss: 0.0011 - mse: 0.0011\n",
            "Epoch 9/150\n",
            "53/53 [==============================] - 3s 49ms/step - loss: 8.7421e-04 - mse: 8.7421e-04\n",
            "Epoch 10/150\n",
            "53/53 [==============================] - 3s 51ms/step - loss: 8.2421e-04 - mse: 8.2421e-04\n",
            "Epoch 11/150\n",
            "53/53 [==============================] - 3s 50ms/step - loss: 8.9376e-04 - mse: 8.9376e-04\n",
            "Epoch 12/150\n",
            "53/53 [==============================] - 3s 49ms/step - loss: 0.0011 - mse: 0.0011\n",
            "Epoch 13/150\n",
            "53/53 [==============================] - 3s 50ms/step - loss: 7.7554e-04 - mse: 7.7554e-04\n",
            "Epoch 14/150\n",
            "53/53 [==============================] - 3s 49ms/step - loss: 7.5032e-04 - mse: 7.5032e-04\n",
            "Epoch 15/150\n",
            "53/53 [==============================] - 3s 49ms/step - loss: 8.3104e-04 - mse: 8.3104e-04\n",
            "Epoch 16/150\n",
            "53/53 [==============================] - 3s 49ms/step - loss: 7.9449e-04 - mse: 7.9449e-04\n",
            "Epoch 17/150\n",
            "53/53 [==============================] - 3s 49ms/step - loss: 9.1509e-04 - mse: 9.1509e-04\n",
            "Epoch 18/150\n",
            "53/53 [==============================] - 3s 49ms/step - loss: 8.5727e-04 - mse: 8.5727e-04\n",
            "Epoch 19/150\n",
            "53/53 [==============================] - 3s 51ms/step - loss: 7.9618e-04 - mse: 7.9618e-04\n",
            "Epoch 20/150\n",
            "53/53 [==============================] - 3s 50ms/step - loss: 8.3695e-04 - mse: 8.3695e-04\n",
            "Epoch 21/150\n",
            "53/53 [==============================] - 3s 50ms/step - loss: 7.1306e-04 - mse: 7.1306e-04\n",
            "Epoch 22/150\n",
            "53/53 [==============================] - 3s 51ms/step - loss: 7.3487e-04 - mse: 7.3487e-04\n",
            "Epoch 23/150\n",
            "53/53 [==============================] - 3s 49ms/step - loss: 6.7408e-04 - mse: 6.7408e-04\n",
            "Epoch 24/150\n",
            "53/53 [==============================] - 3s 50ms/step - loss: 6.4629e-04 - mse: 6.4629e-04\n",
            "Epoch 25/150\n",
            "53/53 [==============================] - 3s 50ms/step - loss: 8.7231e-04 - mse: 8.7231e-04\n",
            "Epoch 26/150\n",
            "53/53 [==============================] - 3s 50ms/step - loss: 8.9718e-04 - mse: 8.9718e-04\n",
            "Epoch 27/150\n",
            "53/53 [==============================] - 3s 51ms/step - loss: 5.6780e-04 - mse: 5.6780e-04\n",
            "Epoch 28/150\n",
            "53/53 [==============================] - 3s 51ms/step - loss: 7.3078e-04 - mse: 7.3078e-04\n",
            "Epoch 29/150\n",
            "53/53 [==============================] - 3s 52ms/step - loss: 6.6139e-04 - mse: 6.6139e-04\n",
            "Epoch 30/150\n",
            "53/53 [==============================] - 3s 52ms/step - loss: 6.7239e-04 - mse: 6.7239e-04\n",
            "Epoch 31/150\n",
            "53/53 [==============================] - 3s 50ms/step - loss: 9.1641e-04 - mse: 9.1641e-04\n",
            "Epoch 32/150\n",
            "53/53 [==============================] - 3s 50ms/step - loss: 5.0025e-04 - mse: 5.0025e-04\n",
            "Epoch 33/150\n",
            "53/53 [==============================] - 3s 50ms/step - loss: 6.7563e-04 - mse: 6.7563e-04\n",
            "Epoch 34/150\n",
            "53/53 [==============================] - 3s 50ms/step - loss: 7.5744e-04 - mse: 7.5744e-04\n",
            "Epoch 35/150\n",
            "53/53 [==============================] - 3s 51ms/step - loss: 4.9571e-04 - mse: 4.9571e-04\n",
            "Epoch 36/150\n",
            "53/53 [==============================] - 3s 51ms/step - loss: 5.5684e-04 - mse: 5.5684e-04\n",
            "Epoch 37/150\n",
            "53/53 [==============================] - 3s 50ms/step - loss: 5.9585e-04 - mse: 5.9585e-04\n",
            "Epoch 38/150\n",
            "53/53 [==============================] - 3s 49ms/step - loss: 6.3478e-04 - mse: 6.3478e-04\n",
            "Epoch 39/150\n",
            "53/53 [==============================] - 3s 50ms/step - loss: 5.4817e-04 - mse: 5.4817e-04\n",
            "Epoch 40/150\n",
            "53/53 [==============================] - 3s 50ms/step - loss: 6.9445e-04 - mse: 6.9445e-04\n",
            "Epoch 41/150\n",
            "53/53 [==============================] - 3s 51ms/step - loss: 5.8028e-04 - mse: 5.8028e-04\n",
            "Epoch 42/150\n",
            "53/53 [==============================] - 3s 50ms/step - loss: 6.6676e-04 - mse: 6.6676e-04\n",
            "Epoch 43/150\n",
            "53/53 [==============================] - 3s 51ms/step - loss: 5.6379e-04 - mse: 5.6379e-04\n",
            "Epoch 44/150\n",
            "53/53 [==============================] - 3s 50ms/step - loss: 5.3016e-04 - mse: 5.3016e-04\n",
            "Epoch 45/150\n",
            "53/53 [==============================] - 3s 50ms/step - loss: 5.7242e-04 - mse: 5.7242e-04\n",
            "Epoch 46/150\n",
            "53/53 [==============================] - 3s 49ms/step - loss: 4.6171e-04 - mse: 4.6171e-04\n",
            "Epoch 47/150\n",
            "53/53 [==============================] - 3s 50ms/step - loss: 6.6929e-04 - mse: 6.6929e-04\n",
            "Epoch 48/150\n",
            "53/53 [==============================] - 3s 49ms/step - loss: 6.9046e-04 - mse: 6.9046e-04\n",
            "Epoch 49/150\n",
            "53/53 [==============================] - 3s 49ms/step - loss: 5.6906e-04 - mse: 5.6906e-04\n",
            "Epoch 50/150\n",
            "53/53 [==============================] - 3s 52ms/step - loss: 5.1728e-04 - mse: 5.1728e-04\n",
            "Epoch 51/150\n",
            "53/53 [==============================] - 3s 50ms/step - loss: 5.2083e-04 - mse: 5.2083e-04\n",
            "Epoch 52/150\n",
            "53/53 [==============================] - 3s 51ms/step - loss: 4.7421e-04 - mse: 4.7421e-04\n",
            "Epoch 53/150\n",
            "53/53 [==============================] - 3s 52ms/step - loss: 6.6108e-04 - mse: 6.6108e-04\n",
            "Epoch 54/150\n",
            "53/53 [==============================] - 3s 51ms/step - loss: 4.4081e-04 - mse: 4.4081e-04\n",
            "Epoch 55/150\n",
            "53/53 [==============================] - 3s 53ms/step - loss: 4.5250e-04 - mse: 4.5250e-04\n",
            "Epoch 56/150\n",
            "53/53 [==============================] - 3s 51ms/step - loss: 4.1296e-04 - mse: 4.1296e-04\n",
            "Epoch 57/150\n",
            "53/53 [==============================] - 3s 50ms/step - loss: 4.2155e-04 - mse: 4.2155e-04\n",
            "Epoch 58/150\n",
            "53/53 [==============================] - 3s 51ms/step - loss: 5.1464e-04 - mse: 5.1464e-04\n",
            "Epoch 59/150\n",
            "53/53 [==============================] - 3s 51ms/step - loss: 4.1453e-04 - mse: 4.1453e-04\n",
            "Epoch 60/150\n",
            "53/53 [==============================] - 3s 53ms/step - loss: 4.2798e-04 - mse: 4.2798e-04\n",
            "Epoch 61/150\n",
            "53/53 [==============================] - 3s 52ms/step - loss: 5.3545e-04 - mse: 5.3545e-04\n",
            "Epoch 62/150\n",
            "53/53 [==============================] - 3s 51ms/step - loss: 4.3263e-04 - mse: 4.3263e-04\n",
            "Epoch 63/150\n",
            "53/53 [==============================] - 3s 52ms/step - loss: 4.7536e-04 - mse: 4.7536e-04\n",
            "Epoch 64/150\n",
            "53/53 [==============================] - 3s 52ms/step - loss: 4.2873e-04 - mse: 4.2873e-04\n",
            "Epoch 65/150\n",
            "53/53 [==============================] - 3s 51ms/step - loss: 4.7255e-04 - mse: 4.7255e-04\n",
            "Epoch 66/150\n",
            "53/53 [==============================] - 3s 52ms/step - loss: 5.7583e-04 - mse: 5.7583e-04\n",
            "Epoch 67/150\n",
            "53/53 [==============================] - 3s 52ms/step - loss: 4.5852e-04 - mse: 4.5852e-04\n",
            "Epoch 68/150\n",
            "53/53 [==============================] - 3s 50ms/step - loss: 5.1496e-04 - mse: 5.1496e-04\n",
            "Epoch 69/150\n",
            "53/53 [==============================] - 3s 50ms/step - loss: 5.3181e-04 - mse: 5.3181e-04\n",
            "Epoch 70/150\n",
            "53/53 [==============================] - 3s 49ms/step - loss: 5.2874e-04 - mse: 5.2874e-04\n",
            "Epoch 71/150\n",
            "53/53 [==============================] - 3s 50ms/step - loss: 4.1563e-04 - mse: 4.1563e-04\n",
            "Epoch 72/150\n",
            "53/53 [==============================] - 3s 50ms/step - loss: 4.5492e-04 - mse: 4.5492e-04\n",
            "Epoch 73/150\n",
            "53/53 [==============================] - 3s 50ms/step - loss: 3.8017e-04 - mse: 3.8017e-04\n",
            "Epoch 74/150\n",
            "53/53 [==============================] - 3s 50ms/step - loss: 4.3228e-04 - mse: 4.3228e-04\n",
            "Epoch 75/150\n",
            "53/53 [==============================] - 3s 50ms/step - loss: 4.3879e-04 - mse: 4.3879e-04\n",
            "Epoch 76/150\n",
            "53/53 [==============================] - 3s 51ms/step - loss: 4.4750e-04 - mse: 4.4750e-04\n",
            "Epoch 77/150\n",
            "53/53 [==============================] - 3s 53ms/step - loss: 4.3970e-04 - mse: 4.3970e-04\n",
            "Epoch 78/150\n",
            "53/53 [==============================] - 3s 52ms/step - loss: 3.9232e-04 - mse: 3.9232e-04\n",
            "Epoch 79/150\n",
            "53/53 [==============================] - 3s 50ms/step - loss: 3.4234e-04 - mse: 3.4234e-04\n",
            "Epoch 80/150\n",
            "53/53 [==============================] - 3s 51ms/step - loss: 4.6768e-04 - mse: 4.6768e-04\n",
            "Epoch 81/150\n",
            "53/53 [==============================] - 3s 52ms/step - loss: 3.8042e-04 - mse: 3.8042e-04\n",
            "Epoch 82/150\n",
            "53/53 [==============================] - 3s 51ms/step - loss: 4.1037e-04 - mse: 4.1037e-04\n",
            "Epoch 83/150\n",
            "53/53 [==============================] - 3s 51ms/step - loss: 4.4418e-04 - mse: 4.4418e-04\n",
            "Epoch 84/150\n",
            "53/53 [==============================] - 3s 50ms/step - loss: 3.7494e-04 - mse: 3.7494e-04\n",
            "Epoch 85/150\n",
            "53/53 [==============================] - 3s 51ms/step - loss: 4.4466e-04 - mse: 4.4466e-04\n",
            "Epoch 86/150\n",
            "53/53 [==============================] - 3s 52ms/step - loss: 4.2782e-04 - mse: 4.2782e-04\n",
            "Epoch 87/150\n",
            "53/53 [==============================] - 3s 50ms/step - loss: 5.0066e-04 - mse: 5.0066e-04\n",
            "Epoch 88/150\n",
            "53/53 [==============================] - 3s 50ms/step - loss: 3.7516e-04 - mse: 3.7516e-04\n",
            "Epoch 89/150\n",
            "53/53 [==============================] - 3s 50ms/step - loss: 4.4035e-04 - mse: 4.4035e-04\n",
            "Epoch 90/150\n",
            "53/53 [==============================] - 3s 50ms/step - loss: 3.7190e-04 - mse: 3.7190e-04\n",
            "Epoch 91/150\n",
            "53/53 [==============================] - 3s 50ms/step - loss: 3.7013e-04 - mse: 3.7013e-04\n",
            "Epoch 92/150\n",
            "53/53 [==============================] - 3s 51ms/step - loss: 3.4200e-04 - mse: 3.4200e-04\n",
            "Epoch 93/150\n",
            "53/53 [==============================] - 3s 50ms/step - loss: 3.3734e-04 - mse: 3.3734e-04\n",
            "Epoch 94/150\n",
            "53/53 [==============================] - 3s 50ms/step - loss: 4.3985e-04 - mse: 4.3985e-04\n",
            "Epoch 95/150\n",
            "53/53 [==============================] - 3s 51ms/step - loss: 4.3088e-04 - mse: 4.3088e-04\n",
            "Epoch 96/150\n",
            "53/53 [==============================] - 3s 50ms/step - loss: 4.3290e-04 - mse: 4.3290e-04\n",
            "Epoch 97/150\n",
            "53/53 [==============================] - 3s 50ms/step - loss: 3.6448e-04 - mse: 3.6448e-04\n",
            "Epoch 98/150\n",
            "53/53 [==============================] - 3s 50ms/step - loss: 4.6732e-04 - mse: 4.6732e-04\n",
            "Epoch 99/150\n",
            "53/53 [==============================] - 3s 51ms/step - loss: 3.1588e-04 - mse: 3.1588e-04\n",
            "Epoch 100/150\n",
            "53/53 [==============================] - 3s 50ms/step - loss: 3.7859e-04 - mse: 3.7859e-04\n",
            "Epoch 101/150\n",
            "53/53 [==============================] - 3s 50ms/step - loss: 3.0577e-04 - mse: 3.0577e-04\n",
            "Epoch 102/150\n",
            "53/53 [==============================] - 3s 50ms/step - loss: 3.5361e-04 - mse: 3.5361e-04\n",
            "Epoch 103/150\n",
            "53/53 [==============================] - 3s 51ms/step - loss: 3.9895e-04 - mse: 3.9895e-04\n",
            "Epoch 104/150\n",
            "53/53 [==============================] - 3s 51ms/step - loss: 2.8921e-04 - mse: 2.8921e-04\n",
            "Epoch 105/150\n",
            "53/53 [==============================] - 3s 51ms/step - loss: 3.8964e-04 - mse: 3.8964e-04\n",
            "Epoch 106/150\n",
            "53/53 [==============================] - 3s 50ms/step - loss: 4.4627e-04 - mse: 4.4627e-04\n",
            "Epoch 107/150\n",
            "53/53 [==============================] - 3s 51ms/step - loss: 4.2766e-04 - mse: 4.2766e-04\n",
            "Epoch 108/150\n",
            "53/53 [==============================] - 3s 52ms/step - loss: 3.5367e-04 - mse: 3.5367e-04\n",
            "Epoch 109/150\n",
            "53/53 [==============================] - 3s 49ms/step - loss: 4.1180e-04 - mse: 4.1180e-04\n",
            "Epoch 110/150\n",
            "53/53 [==============================] - 3s 50ms/step - loss: 2.9461e-04 - mse: 2.9461e-04\n",
            "Epoch 111/150\n",
            "53/53 [==============================] - 3s 50ms/step - loss: 3.9041e-04 - mse: 3.9041e-04\n",
            "Epoch 112/150\n",
            "53/53 [==============================] - 3s 49ms/step - loss: 3.5398e-04 - mse: 3.5398e-04\n",
            "Epoch 113/150\n",
            "53/53 [==============================] - 3s 50ms/step - loss: 3.1308e-04 - mse: 3.1308e-04\n",
            "Epoch 114/150\n",
            "53/53 [==============================] - 3s 50ms/step - loss: 4.3927e-04 - mse: 4.3927e-04\n",
            "Epoch 115/150\n",
            "53/53 [==============================] - 3s 49ms/step - loss: 3.3286e-04 - mse: 3.3286e-04\n",
            "Epoch 116/150\n",
            "53/53 [==============================] - 3s 49ms/step - loss: 3.7460e-04 - mse: 3.7460e-04\n",
            "Epoch 117/150\n",
            "53/53 [==============================] - 3s 49ms/step - loss: 3.9639e-04 - mse: 3.9639e-04\n",
            "Epoch 118/150\n",
            "53/53 [==============================] - 3s 51ms/step - loss: 3.4698e-04 - mse: 3.4698e-04\n",
            "Epoch 119/150\n",
            "53/53 [==============================] - 3s 51ms/step - loss: 2.6703e-04 - mse: 2.6703e-04\n",
            "Epoch 120/150\n",
            "53/53 [==============================] - 3s 50ms/step - loss: 3.5306e-04 - mse: 3.5306e-04\n",
            "Epoch 121/150\n",
            "53/53 [==============================] - 3s 50ms/step - loss: 4.1287e-04 - mse: 4.1287e-04\n",
            "Epoch 122/150\n",
            "53/53 [==============================] - 3s 51ms/step - loss: 3.7731e-04 - mse: 3.7731e-04\n",
            "Epoch 123/150\n",
            "53/53 [==============================] - 3s 50ms/step - loss: 3.9278e-04 - mse: 3.9278e-04\n",
            "Epoch 124/150\n",
            "53/53 [==============================] - 3s 51ms/step - loss: 2.8251e-04 - mse: 2.8251e-04\n",
            "Epoch 125/150\n",
            "53/53 [==============================] - 3s 50ms/step - loss: 3.5220e-04 - mse: 3.5220e-04\n",
            "Epoch 126/150\n",
            "53/53 [==============================] - 3s 50ms/step - loss: 2.8884e-04 - mse: 2.8884e-04\n",
            "Epoch 127/150\n",
            "53/53 [==============================] - 3s 51ms/step - loss: 3.1934e-04 - mse: 3.1934e-04\n",
            "Epoch 128/150\n",
            "53/53 [==============================] - 3s 52ms/step - loss: 3.0895e-04 - mse: 3.0895e-04\n",
            "Epoch 129/150\n",
            "53/53 [==============================] - 3s 51ms/step - loss: 4.3629e-04 - mse: 4.3629e-04\n",
            "Epoch 130/150\n",
            "53/53 [==============================] - 3s 52ms/step - loss: 4.3623e-04 - mse: 4.3623e-04\n",
            "Epoch 131/150\n",
            "53/53 [==============================] - 3s 53ms/step - loss: 3.5897e-04 - mse: 3.5897e-04\n",
            "Epoch 132/150\n",
            "53/53 [==============================] - 3s 51ms/step - loss: 3.6786e-04 - mse: 3.6786e-04\n",
            "Epoch 133/150\n",
            "53/53 [==============================] - 3s 52ms/step - loss: 2.9208e-04 - mse: 2.9208e-04\n",
            "Epoch 134/150\n",
            "53/53 [==============================] - 3s 52ms/step - loss: 3.0822e-04 - mse: 3.0822e-04\n",
            "Epoch 135/150\n",
            "53/53 [==============================] - 3s 50ms/step - loss: 3.0071e-04 - mse: 3.0071e-04\n",
            "Epoch 136/150\n",
            "53/53 [==============================] - 3s 50ms/step - loss: 3.7193e-04 - mse: 3.7193e-04\n",
            "Epoch 137/150\n",
            "53/53 [==============================] - 3s 49ms/step - loss: 3.9888e-04 - mse: 3.9888e-04\n",
            "Epoch 138/150\n",
            "53/53 [==============================] - 3s 51ms/step - loss: 3.9156e-04 - mse: 3.9156e-04\n",
            "Epoch 139/150\n",
            "53/53 [==============================] - 3s 53ms/step - loss: 3.8894e-04 - mse: 3.8894e-04\n",
            "Epoch 140/150\n",
            "53/53 [==============================] - 3s 53ms/step - loss: 3.8259e-04 - mse: 3.8259e-04\n",
            "Epoch 141/150\n",
            "53/53 [==============================] - 3s 52ms/step - loss: 3.1706e-04 - mse: 3.1706e-04\n",
            "Epoch 142/150\n",
            "53/53 [==============================] - 3s 51ms/step - loss: 4.0176e-04 - mse: 4.0176e-04\n",
            "Epoch 143/150\n",
            "53/53 [==============================] - 3s 52ms/step - loss: 3.1196e-04 - mse: 3.1196e-04\n",
            "Epoch 144/150\n",
            "53/53 [==============================] - 3s 51ms/step - loss: 3.6294e-04 - mse: 3.6294e-04\n",
            "Epoch 145/150\n",
            "53/53 [==============================] - 3s 51ms/step - loss: 2.9139e-04 - mse: 2.9139e-04\n",
            "Epoch 146/150\n",
            "53/53 [==============================] - 3s 51ms/step - loss: 3.4622e-04 - mse: 3.4622e-04\n",
            "Epoch 147/150\n",
            "53/53 [==============================] - 3s 52ms/step - loss: 2.9294e-04 - mse: 2.9294e-04\n",
            "Epoch 148/150\n",
            "53/53 [==============================] - 3s 51ms/step - loss: 2.9252e-04 - mse: 2.9252e-04\n",
            "Epoch 149/150\n",
            "53/53 [==============================] - 3s 52ms/step - loss: 3.5735e-04 - mse: 3.5735e-04\n",
            "Epoch 150/150\n",
            "53/53 [==============================] - 3s 53ms/step - loss: 3.7883e-04 - mse: 3.7883e-04\n",
            "['loss', 'mse']\n"
          ],
          "name": "stdout"
        }
      ]
    },
    {
      "cell_type": "code",
      "metadata": {
        "colab": {
          "base_uri": "https://localhost:8080/"
        },
        "id": "dnkVV6JtgyD_",
        "outputId": "4922f513-46ef-4d29-9f2f-a76209f42ca8"
      },
      "source": [
        "predicted = rnn_model.predict(X_test)\n",
        "result = rnn_model.evaluate(X_test,y_test)\n",
        "result"
      ],
      "execution_count": null,
      "outputs": [
        {
          "output_type": "stream",
          "text": [
            "14/14 [==============================] - 0s 14ms/step - loss: 3.0545e-04 - mse: 3.0545e-04\n"
          ],
          "name": "stdout"
        },
        {
          "output_type": "execute_result",
          "data": {
            "text/plain": [
              "[0.0003054463886655867, 0.0003054463886655867]"
            ]
          },
          "metadata": {
            "tags": []
          },
          "execution_count": 37
        }
      ]
    },
    {
      "cell_type": "code",
      "metadata": {
        "colab": {
          "base_uri": "https://localhost:8080/",
          "height": 279
        },
        "id": "1Y_bDkf2Wj48",
        "outputId": "4bfcae52-02dd-4046-ba2f-1b1e2aad664f"
      },
      "source": [
        "plt.plot(y_test, color= 'lime')\n",
        "plt.plot(predicted, color='blue')\n",
        "plt.title(\"\")\n",
        "plt.xlabel(\"Day\")\n",
        "plt.ylabel(\"Market Cap\")\n",
        "plt.legend(['Actual','Predict'], loc='upper left')\n",
        "plt.show()"
      ],
      "execution_count": null,
      "outputs": [
        {
          "output_type": "display_data",
          "data": {
            "image/png": "[encoded data removed]",
            "text/plain": [
              "<Figure size 432x288 with 1 Axes>"
            ]
          },
          "metadata": {
            "tags": [],
            "needs_background": "light"
          }
        }
      ]
    }
  ]
}